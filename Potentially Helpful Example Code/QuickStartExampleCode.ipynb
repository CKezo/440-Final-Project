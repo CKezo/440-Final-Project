{
 "cells": [
  {
   "cell_type": "markdown",
   "metadata": {},
   "source": [
    "### Just example code from the quickstart guide. I did find it helpful to read through this real quick so here's the link if you're interested.\n",
    "https://huggingface.co/docs/setfit/quickstart"
   ]
  },
  {
   "cell_type": "code",
   "execution_count": 1,
   "metadata": {},
   "outputs": [
    {
     "name": "stdout",
     "output_type": "stream",
     "text": [
      "Requirement already satisfied: setfit in c:\\users\\deth_\\cs440\\final\\setfit-main\\src (1.2.0.dev0)\n",
      "Requirement already satisfied: datasets>=2.15.0 in c:\\users\\deth_\\miniconda3\\envs\\setfit\\lib\\site-packages (from setfit) (3.1.0)\n",
      "Requirement already satisfied: sentence-transformers>=3 in c:\\users\\deth_\\miniconda3\\envs\\setfit\\lib\\site-packages (from sentence-transformers[train]>=3->setfit) (3.3.1)\n",
      "Requirement already satisfied: transformers>=4.41.0 in c:\\users\\deth_\\miniconda3\\envs\\setfit\\lib\\site-packages (from setfit) (4.45.2)\n",
      "Requirement already satisfied: evaluate>=0.3.0 in c:\\users\\deth_\\miniconda3\\envs\\setfit\\lib\\site-packages (from setfit) (0.4.3)\n",
      "Requirement already satisfied: huggingface_hub>=0.23.0 in c:\\users\\deth_\\miniconda3\\envs\\setfit\\lib\\site-packages (from setfit) (0.26.2)\n",
      "Requirement already satisfied: scikit-learn in c:\\users\\deth_\\miniconda3\\envs\\setfit\\lib\\site-packages (from setfit) (1.5.2)\n",
      "Requirement already satisfied: packaging in c:\\users\\deth_\\miniconda3\\envs\\setfit\\lib\\site-packages (from setfit) (24.2)\n",
      "Requirement already satisfied: filelock in c:\\users\\deth_\\miniconda3\\envs\\setfit\\lib\\site-packages (from datasets>=2.15.0->setfit) (3.16.1)\n",
      "Requirement already satisfied: numpy>=1.17 in c:\\users\\deth_\\miniconda3\\envs\\setfit\\lib\\site-packages (from datasets>=2.15.0->setfit) (1.26.4)\n",
      "Requirement already satisfied: pyarrow>=15.0.0 in c:\\users\\deth_\\miniconda3\\envs\\setfit\\lib\\site-packages (from datasets>=2.15.0->setfit) (18.0.0)\n",
      "Requirement already satisfied: dill<0.3.9,>=0.3.0 in c:\\users\\deth_\\miniconda3\\envs\\setfit\\lib\\site-packages (from datasets>=2.15.0->setfit) (0.3.8)\n",
      "Requirement already satisfied: pandas in c:\\users\\deth_\\miniconda3\\envs\\setfit\\lib\\site-packages (from datasets>=2.15.0->setfit) (2.2.3)\n",
      "Requirement already satisfied: requests>=2.32.2 in c:\\users\\deth_\\miniconda3\\envs\\setfit\\lib\\site-packages (from datasets>=2.15.0->setfit) (2.32.3)\n",
      "Requirement already satisfied: tqdm>=4.66.3 in c:\\users\\deth_\\miniconda3\\envs\\setfit\\lib\\site-packages (from datasets>=2.15.0->setfit) (4.67.0)\n",
      "Requirement already satisfied: xxhash in c:\\users\\deth_\\miniconda3\\envs\\setfit\\lib\\site-packages (from datasets>=2.15.0->setfit) (3.5.0)\n",
      "Requirement already satisfied: multiprocess<0.70.17 in c:\\users\\deth_\\miniconda3\\envs\\setfit\\lib\\site-packages (from datasets>=2.15.0->setfit) (0.70.16)\n",
      "Requirement already satisfied: fsspec<=2024.9.0,>=2023.1.0 in c:\\users\\deth_\\miniconda3\\envs\\setfit\\lib\\site-packages (from fsspec[http]<=2024.9.0,>=2023.1.0->datasets>=2.15.0->setfit) (2024.2.0)\n",
      "Requirement already satisfied: aiohttp in c:\\users\\deth_\\miniconda3\\envs\\setfit\\lib\\site-packages (from datasets>=2.15.0->setfit) (3.11.7)\n",
      "Requirement already satisfied: pyyaml>=5.1 in c:\\users\\deth_\\miniconda3\\envs\\setfit\\lib\\site-packages (from datasets>=2.15.0->setfit) (6.0.2)\n",
      "Requirement already satisfied: typing-extensions>=3.7.4.3 in c:\\users\\deth_\\miniconda3\\envs\\setfit\\lib\\site-packages (from huggingface_hub>=0.23.0->setfit) (4.12.2)\n",
      "Requirement already satisfied: torch>=1.11.0 in c:\\users\\deth_\\miniconda3\\envs\\setfit\\lib\\site-packages (from sentence-transformers>=3->sentence-transformers[train]>=3->setfit) (2.5.1)\n",
      "Requirement already satisfied: scipy in c:\\users\\deth_\\miniconda3\\envs\\setfit\\lib\\site-packages (from sentence-transformers>=3->sentence-transformers[train]>=3->setfit) (1.13.1)\n",
      "Requirement already satisfied: Pillow in c:\\users\\deth_\\miniconda3\\envs\\setfit\\lib\\site-packages (from sentence-transformers>=3->sentence-transformers[train]>=3->setfit) (11.0.0)\n",
      "Requirement already satisfied: accelerate>=0.20.3 in c:\\users\\deth_\\miniconda3\\envs\\setfit\\lib\\site-packages (from sentence-transformers[train]>=3->setfit) (1.1.1)\n",
      "Requirement already satisfied: regex!=2019.12.17 in c:\\users\\deth_\\miniconda3\\envs\\setfit\\lib\\site-packages (from transformers>=4.41.0->setfit) (2024.11.6)\n",
      "Requirement already satisfied: safetensors>=0.4.1 in c:\\users\\deth_\\miniconda3\\envs\\setfit\\lib\\site-packages (from transformers>=4.41.0->setfit) (0.4.5)\n",
      "Requirement already satisfied: tokenizers<0.21,>=0.20 in c:\\users\\deth_\\miniconda3\\envs\\setfit\\lib\\site-packages (from transformers>=4.41.0->setfit) (0.20.3)\n",
      "Requirement already satisfied: joblib>=1.2.0 in c:\\users\\deth_\\miniconda3\\envs\\setfit\\lib\\site-packages (from scikit-learn->setfit) (1.4.2)\n",
      "Requirement already satisfied: threadpoolctl>=3.1.0 in c:\\users\\deth_\\miniconda3\\envs\\setfit\\lib\\site-packages (from scikit-learn->setfit) (3.5.0)\n",
      "Requirement already satisfied: psutil in c:\\users\\deth_\\miniconda3\\envs\\setfit\\lib\\site-packages (from accelerate>=0.20.3->sentence-transformers[train]>=3->setfit) (6.1.0)\n",
      "Requirement already satisfied: aiohappyeyeballs>=2.3.0 in c:\\users\\deth_\\miniconda3\\envs\\setfit\\lib\\site-packages (from aiohttp->datasets>=2.15.0->setfit) (2.4.3)\n",
      "Requirement already satisfied: aiosignal>=1.1.2 in c:\\users\\deth_\\miniconda3\\envs\\setfit\\lib\\site-packages (from aiohttp->datasets>=2.15.0->setfit) (1.3.1)\n",
      "Requirement already satisfied: async-timeout<6.0,>=4.0 in c:\\users\\deth_\\miniconda3\\envs\\setfit\\lib\\site-packages (from aiohttp->datasets>=2.15.0->setfit) (5.0.1)\n",
      "Requirement already satisfied: attrs>=17.3.0 in c:\\users\\deth_\\miniconda3\\envs\\setfit\\lib\\site-packages (from aiohttp->datasets>=2.15.0->setfit) (24.2.0)\n",
      "Requirement already satisfied: frozenlist>=1.1.1 in c:\\users\\deth_\\miniconda3\\envs\\setfit\\lib\\site-packages (from aiohttp->datasets>=2.15.0->setfit) (1.5.0)\n",
      "Requirement already satisfied: multidict<7.0,>=4.5 in c:\\users\\deth_\\miniconda3\\envs\\setfit\\lib\\site-packages (from aiohttp->datasets>=2.15.0->setfit) (6.1.0)\n",
      "Requirement already satisfied: propcache>=0.2.0 in c:\\users\\deth_\\miniconda3\\envs\\setfit\\lib\\site-packages (from aiohttp->datasets>=2.15.0->setfit) (0.2.0)\n",
      "Requirement already satisfied: yarl<2.0,>=1.17.0 in c:\\users\\deth_\\miniconda3\\envs\\setfit\\lib\\site-packages (from aiohttp->datasets>=2.15.0->setfit) (1.18.0)\n",
      "Requirement already satisfied: charset-normalizer<4,>=2 in c:\\users\\deth_\\miniconda3\\envs\\setfit\\lib\\site-packages (from requests>=2.32.2->datasets>=2.15.0->setfit) (3.4.0)\n",
      "Requirement already satisfied: idna<4,>=2.5 in c:\\users\\deth_\\miniconda3\\envs\\setfit\\lib\\site-packages (from requests>=2.32.2->datasets>=2.15.0->setfit) (3.10)\n",
      "Requirement already satisfied: urllib3<3,>=1.21.1 in c:\\users\\deth_\\miniconda3\\envs\\setfit\\lib\\site-packages (from requests>=2.32.2->datasets>=2.15.0->setfit) (2.2.3)\n",
      "Requirement already satisfied: certifi>=2017.4.17 in c:\\users\\deth_\\miniconda3\\envs\\setfit\\lib\\site-packages (from requests>=2.32.2->datasets>=2.15.0->setfit) (2024.8.30)\n",
      "Requirement already satisfied: networkx in c:\\users\\deth_\\miniconda3\\envs\\setfit\\lib\\site-packages (from torch>=1.11.0->sentence-transformers>=3->sentence-transformers[train]>=3->setfit) (3.2.1)\n",
      "Requirement already satisfied: jinja2 in c:\\users\\deth_\\miniconda3\\envs\\setfit\\lib\\site-packages (from torch>=1.11.0->sentence-transformers>=3->sentence-transformers[train]>=3->setfit) (3.1.4)\n",
      "Requirement already satisfied: sympy==1.13.1 in c:\\users\\deth_\\miniconda3\\envs\\setfit\\lib\\site-packages (from torch>=1.11.0->sentence-transformers>=3->sentence-transformers[train]>=3->setfit) (1.13.1)\n",
      "Requirement already satisfied: mpmath<1.4,>=1.1.0 in c:\\users\\deth_\\miniconda3\\envs\\setfit\\lib\\site-packages (from sympy==1.13.1->torch>=1.11.0->sentence-transformers>=3->sentence-transformers[train]>=3->setfit) (1.3.0)\n",
      "Requirement already satisfied: colorama in c:\\users\\deth_\\miniconda3\\envs\\setfit\\lib\\site-packages (from tqdm>=4.66.3->datasets>=2.15.0->setfit) (0.4.6)\n",
      "Requirement already satisfied: python-dateutil>=2.8.2 in c:\\users\\deth_\\miniconda3\\envs\\setfit\\lib\\site-packages (from pandas->datasets>=2.15.0->setfit) (2.9.0.post0)\n",
      "Requirement already satisfied: pytz>=2020.1 in c:\\users\\deth_\\miniconda3\\envs\\setfit\\lib\\site-packages (from pandas->datasets>=2.15.0->setfit) (2024.2)\n",
      "Requirement already satisfied: tzdata>=2022.7 in c:\\users\\deth_\\miniconda3\\envs\\setfit\\lib\\site-packages (from pandas->datasets>=2.15.0->setfit) (2024.2)\n",
      "Requirement already satisfied: six>=1.5 in c:\\users\\deth_\\miniconda3\\envs\\setfit\\lib\\site-packages (from python-dateutil>=2.8.2->pandas->datasets>=2.15.0->setfit) (1.16.0)\n",
      "Requirement already satisfied: MarkupSafe>=2.0 in c:\\users\\deth_\\miniconda3\\envs\\setfit\\lib\\site-packages (from jinja2->torch>=1.11.0->sentence-transformers>=3->sentence-transformers[train]>=3->setfit) (3.0.2)\n",
      "Note: you may need to restart the kernel to use updated packages.\n"
     ]
    }
   ],
   "source": [
    "pip install setfit"
   ]
  },
  {
   "cell_type": "code",
   "execution_count": 2,
   "metadata": {},
   "outputs": [
    {
     "name": "stdout",
     "output_type": "stream",
     "text": [
      "Looking in indexes: https://download.pytorch.org/whl/cu118\n",
      "Requirement already satisfied: torch in c:\\users\\deth_\\miniconda3\\envs\\setfit\\lib\\site-packages (2.5.1)\n",
      "Requirement already satisfied: filelock in c:\\users\\deth_\\miniconda3\\envs\\setfit\\lib\\site-packages (from torch) (3.16.1)\n",
      "Requirement already satisfied: typing-extensions>=4.8.0 in c:\\users\\deth_\\miniconda3\\envs\\setfit\\lib\\site-packages (from torch) (4.12.2)\n",
      "Requirement already satisfied: networkx in c:\\users\\deth_\\miniconda3\\envs\\setfit\\lib\\site-packages (from torch) (3.2.1)\n",
      "Requirement already satisfied: jinja2 in c:\\users\\deth_\\miniconda3\\envs\\setfit\\lib\\site-packages (from torch) (3.1.4)\n",
      "Requirement already satisfied: fsspec in c:\\users\\deth_\\miniconda3\\envs\\setfit\\lib\\site-packages (from torch) (2024.2.0)\n",
      "Requirement already satisfied: sympy==1.13.1 in c:\\users\\deth_\\miniconda3\\envs\\setfit\\lib\\site-packages (from torch) (1.13.1)\n",
      "Requirement already satisfied: mpmath<1.4,>=1.1.0 in c:\\users\\deth_\\miniconda3\\envs\\setfit\\lib\\site-packages (from sympy==1.13.1->torch) (1.3.0)\n",
      "Requirement already satisfied: MarkupSafe>=2.0 in c:\\users\\deth_\\miniconda3\\envs\\setfit\\lib\\site-packages (from jinja2->torch) (3.0.2)\n",
      "Note: you may need to restart the kernel to use updated packages.\n"
     ]
    }
   ],
   "source": [
    "pip install torch --index-url https://download.pytorch.org/whl/cu118"
   ]
  },
  {
   "cell_type": "code",
   "execution_count": null,
   "metadata": {},
   "outputs": [
    {
     "name": "stdout",
     "output_type": "stream",
     "text": [
      "Requirement already satisfied: transformers==4.45.2 in c:\\users\\deth_\\miniconda3\\envs\\setfit\\lib\\site-packages (4.45.2)\n",
      "Requirement already satisfied: filelock in c:\\users\\deth_\\miniconda3\\envs\\setfit\\lib\\site-packages (from transformers==4.45.2) (3.16.1)\n",
      "Requirement already satisfied: huggingface-hub<1.0,>=0.23.2 in c:\\users\\deth_\\miniconda3\\envs\\setfit\\lib\\site-packages (from transformers==4.45.2) (0.26.2)\n",
      "Requirement already satisfied: numpy>=1.17 in c:\\users\\deth_\\miniconda3\\envs\\setfit\\lib\\site-packages (from transformers==4.45.2) (1.26.4)\n",
      "Requirement already satisfied: packaging>=20.0 in c:\\users\\deth_\\miniconda3\\envs\\setfit\\lib\\site-packages (from transformers==4.45.2) (24.2)\n",
      "Requirement already satisfied: pyyaml>=5.1 in c:\\users\\deth_\\miniconda3\\envs\\setfit\\lib\\site-packages (from transformers==4.45.2) (6.0.2)\n",
      "Requirement already satisfied: regex!=2019.12.17 in c:\\users\\deth_\\miniconda3\\envs\\setfit\\lib\\site-packages (from transformers==4.45.2) (2024.11.6)\n",
      "Requirement already satisfied: requests in c:\\users\\deth_\\miniconda3\\envs\\setfit\\lib\\site-packages (from transformers==4.45.2) (2.32.3)\n",
      "Requirement already satisfied: safetensors>=0.4.1 in c:\\users\\deth_\\miniconda3\\envs\\setfit\\lib\\site-packages (from transformers==4.45.2) (0.4.5)\n",
      "Requirement already satisfied: tokenizers<0.21,>=0.20 in c:\\users\\deth_\\miniconda3\\envs\\setfit\\lib\\site-packages (from transformers==4.45.2) (0.20.3)\n",
      "Requirement already satisfied: tqdm>=4.27 in c:\\users\\deth_\\miniconda3\\envs\\setfit\\lib\\site-packages (from transformers==4.45.2) (4.67.0)\n",
      "Requirement already satisfied: fsspec>=2023.5.0 in c:\\users\\deth_\\miniconda3\\envs\\setfit\\lib\\site-packages (from huggingface-hub<1.0,>=0.23.2->transformers==4.45.2) (2024.2.0)\n",
      "Requirement already satisfied: typing-extensions>=3.7.4.3 in c:\\users\\deth_\\miniconda3\\envs\\setfit\\lib\\site-packages (from huggingface-hub<1.0,>=0.23.2->transformers==4.45.2) (4.12.2)\n",
      "Requirement already satisfied: colorama in c:\\users\\deth_\\miniconda3\\envs\\setfit\\lib\\site-packages (from tqdm>=4.27->transformers==4.45.2) (0.4.6)\n",
      "Requirement already satisfied: charset-normalizer<4,>=2 in c:\\users\\deth_\\miniconda3\\envs\\setfit\\lib\\site-packages (from requests->transformers==4.45.2) (3.4.0)\n",
      "Requirement already satisfied: idna<4,>=2.5 in c:\\users\\deth_\\miniconda3\\envs\\setfit\\lib\\site-packages (from requests->transformers==4.45.2) (3.10)\n",
      "Requirement already satisfied: urllib3<3,>=1.21.1 in c:\\users\\deth_\\miniconda3\\envs\\setfit\\lib\\site-packages (from requests->transformers==4.45.2) (2.2.3)\n",
      "Requirement already satisfied: certifi>=2017.4.17 in c:\\users\\deth_\\miniconda3\\envs\\setfit\\lib\\site-packages (from requests->transformers==4.45.2) (2024.8.30)\n"
     ]
    }
   ],
   "source": [
    "!pip install transformers==4.45.2\n",
    "# This will fix AttributeError: 'CallbackHandler' object has\n",
    "# no attribute 'tokenizer if you're running into that issue\n",
    "# Try 4.42.2 if that doesn't work"
   ]
  },
  {
   "cell_type": "code",
   "execution_count": 4,
   "metadata": {},
   "outputs": [
    {
     "name": "stderr",
     "output_type": "stream",
     "text": [
      "c:\\Users\\deth_\\miniconda3\\envs\\setfit\\lib\\site-packages\\tqdm\\auto.py:21: TqdmWarning: IProgress not found. Please update jupyter and ipywidgets. See https://ipywidgets.readthedocs.io/en/stable/user_install.html\n",
      "  from .autonotebook import tqdm as notebook_tqdm\n",
      "model_head.pkl not found on HuggingFace Hub, initialising classification head with random weights. You should TRAIN this model on a downstream task to use it for predictions and inference.\n"
     ]
    }
   ],
   "source": [
    "from setfit import SetFitModel\n",
    "\n",
    "model = SetFitModel.from_pretrained(\"BAAI/bge-small-en-v1.5\")"
   ]
  },
  {
   "cell_type": "code",
   "execution_count": 5,
   "metadata": {},
   "outputs": [
    {
     "name": "stderr",
     "output_type": "stream",
     "text": [
      "Repo card metadata block was not found. Setting CardData to empty.\n"
     ]
    },
    {
     "data": {
      "text/plain": [
       "DatasetDict({\n",
       "    train: Dataset({\n",
       "        features: ['text', 'label', 'label_text'],\n",
       "        num_rows: 6920\n",
       "    })\n",
       "    validation: Dataset({\n",
       "        features: ['text', 'label', 'label_text'],\n",
       "        num_rows: 872\n",
       "    })\n",
       "    test: Dataset({\n",
       "        features: ['text', 'label', 'label_text'],\n",
       "        num_rows: 1821\n",
       "    })\n",
       "})"
      ]
     },
     "execution_count": 5,
     "metadata": {},
     "output_type": "execute_result"
    }
   ],
   "source": [
    "from datasets import load_dataset\n",
    "\n",
    "dataset = load_dataset(\"SetFit/sst2\")\n",
    "dataset"
   ]
  },
  {
   "cell_type": "code",
   "execution_count": 6,
   "metadata": {},
   "outputs": [
    {
     "data": {
      "text/plain": [
       "Dataset({\n",
       "    features: ['text', 'label', 'label_text'],\n",
       "    num_rows: 16\n",
       "})"
      ]
     },
     "execution_count": 6,
     "metadata": {},
     "output_type": "execute_result"
    }
   ],
   "source": [
    "from setfit import sample_dataset\n",
    "\n",
    "train_dataset = sample_dataset(dataset[\"train\"], label_column=\"label\", num_samples=8)\n",
    "train_dataset"
   ]
  },
  {
   "cell_type": "code",
   "execution_count": 7,
   "metadata": {},
   "outputs": [
    {
     "data": {
      "text/plain": [
       "Dataset({\n",
       "    features: ['text', 'label', 'label_text'],\n",
       "    num_rows: 1821\n",
       "})"
      ]
     },
     "execution_count": 7,
     "metadata": {},
     "output_type": "execute_result"
    }
   ],
   "source": [
    "test_dataset = dataset[\"test\"]\n",
    "test_dataset"
   ]
  },
  {
   "cell_type": "code",
   "execution_count": 8,
   "metadata": {},
   "outputs": [],
   "source": [
    "model.labels = [\"negative\", \"positive\"]"
   ]
  },
  {
   "cell_type": "code",
   "execution_count": 9,
   "metadata": {},
   "outputs": [],
   "source": [
    "from setfit import TrainingArguments\n",
    "\n",
    "args = TrainingArguments(\n",
    "    batch_size=32,\n",
    "    num_epochs=10,\n",
    ")"
   ]
  },
  {
   "cell_type": "code",
   "execution_count": 10,
   "metadata": {},
   "outputs": [
    {
     "name": "stderr",
     "output_type": "stream",
     "text": [
      "c:\\Users\\deth_\\miniconda3\\envs\\setfit\\lib\\site-packages\\codecarbon\\input.py:9: DeprecationWarning: pkg_resources is deprecated as an API. See https://setuptools.pypa.io/en/latest/pkg_resources.html\n",
      "  import pkg_resources\n",
      "c:\\Users\\deth_\\miniconda3\\envs\\setfit\\lib\\site-packages\\pkg_resources\\__init__.py:3154: DeprecationWarning: Deprecated call to `pkg_resources.declare_namespace('google')`.\n",
      "Implementing implicit namespace packages (as specified in PEP 420) is preferred to `pkg_resources.declare_namespace`. See https://setuptools.pypa.io/en/latest/references/keywords.html#keyword-namespace-packages\n",
      "  declare_namespace(pkg)\n",
      "Map: 100%|██████████| 16/16 [00:00<00:00, 3196.57 examples/s]\n"
     ]
    }
   ],
   "source": [
    "from setfit import Trainer\n",
    "\n",
    "trainer = Trainer(\n",
    "    model=model,\n",
    "    args=args,\n",
    "    train_dataset=train_dataset,\n",
    ")"
   ]
  },
  {
   "cell_type": "code",
   "execution_count": 11,
   "metadata": {},
   "outputs": [
    {
     "name": "stderr",
     "output_type": "stream",
     "text": [
      "***** Running training *****\n",
      "  Num unique pairs = 144\n",
      "  Batch size = 32\n",
      "  Num epochs = 10\n",
      "  2%|▏         | 1/50 [00:01<01:32,  1.88s/it]"
     ]
    },
    {
     "name": "stdout",
     "output_type": "stream",
     "text": [
      "{'embedding_loss': 0.2383, 'grad_norm': 0.6014610528945923, 'learning_rate': 4.000000000000001e-06, 'epoch': 0.2}\n"
     ]
    },
    {
     "name": "stderr",
     "output_type": "stream",
     "text": [
      "100%|██████████| 50/50 [01:02<00:00,  1.18s/it]"
     ]
    },
    {
     "name": "stdout",
     "output_type": "stream",
     "text": [
      "{'embedding_loss': 0.1, 'grad_norm': 0.3201802670955658, 'learning_rate': 0.0, 'epoch': 10.0}\n"
     ]
    },
    {
     "name": "stderr",
     "output_type": "stream",
     "text": [
      "100%|██████████| 50/50 [01:03<00:00,  1.18s/it]c:\\Users\\deth_\\miniconda3\\envs\\setfit\\lib\\site-packages\\codecarbon\\output_methods\\file.py:50: FutureWarning: The behavior of DataFrame concatenation with empty or all-NA entries is deprecated. In a future version, this will no longer exclude empty or all-NA columns when determining the result dtypes. To retain the old behavior, exclude the relevant entries before the concat operation.\n",
      "  df = pd.concat([df, pd.DataFrame.from_records([dict(total.values)])])\n",
      "100%|██████████| 50/50 [01:03<00:00,  1.28s/it]"
     ]
    },
    {
     "name": "stdout",
     "output_type": "stream",
     "text": [
      "{'train_runtime': 63.7667, 'train_samples_per_second': 22.582, 'train_steps_per_second': 0.784, 'train_loss': 0.10276843756437301, 'epoch': 10.0}\n"
     ]
    },
    {
     "name": "stderr",
     "output_type": "stream",
     "text": [
      "\n"
     ]
    }
   ],
   "source": [
    "trainer.train()"
   ]
  },
  {
   "cell_type": "code",
   "execution_count": null,
   "metadata": {},
   "outputs": [],
   "source": [
    "model.save_pretrained(\"setfit-bge-small-v1.5-sst2-8-shot\") #  Saves a local mode to be loaded later"
   ]
  },
  {
   "cell_type": "code",
   "execution_count": 13,
   "metadata": {},
   "outputs": [],
   "source": [
    "model = SetFitModel.from_pretrained(\"setfit-bge-small-v1.5-sst2-8-shot\")\n",
    "# how to load the model above"
   ]
  },
  {
   "cell_type": "code",
   "execution_count": 14,
   "metadata": {},
   "outputs": [
    {
     "data": {
      "text/plain": [
       "['positive', 'negative', 'negative']"
      ]
     },
     "execution_count": 14,
     "metadata": {},
     "output_type": "execute_result"
    }
   ],
   "source": [
    "preds = model.predict([\n",
    "    \"It's a charming and often affecting journey.\",\n",
    "    \"It's slow -- very, very slow.\",\n",
    "    \"A sometimes tedious film.\",\n",
    "])\n",
    "preds"
   ]
  }
 ],
 "metadata": {
  "kernelspec": {
   "display_name": "setfit",
   "language": "python",
   "name": "python3"
  },
  "language_info": {
   "codemirror_mode": {
    "name": "ipython",
    "version": 3
   },
   "file_extension": ".py",
   "mimetype": "text/x-python",
   "name": "python",
   "nbconvert_exporter": "python",
   "pygments_lexer": "ipython3",
   "version": "3.9.20"
  }
 },
 "nbformat": 4,
 "nbformat_minor": 2
}
